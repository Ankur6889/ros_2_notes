{
 "cells": [
  {
   "cell_type": "markdown",
   "metadata": {},
   "source": [
    "To source the working space we execute \n",
    "\n",
    "--------------------------------------------------\n",
    "## source /opt/ros/humble/setup.bash\n",
    "--------------------------------------------------\n"
   ]
  },
  {
   "cell_type": "markdown",
   "metadata": {},
   "source": [
    "The ros2 keyword is used for all the ROS2 commands. Therefore, for launching programs, you will have two options:\n",
    "\n",
    "Launch the ROS2 program by directly running the executable file.\n",
    "\n",
    "Launch the ROS2 program by starting a launch file."
   ]
  },
  {
   "cell_type": "markdown",
   "metadata": {},
   "source": [
    " Running the program through the executable file \n",
    " \n",
    "------------------------------------------------------------\n",
    "## ros2 run <package_name> <executable_file>\n",
    "-----------------------------------------------------------\n",
    "\n",
    "## ros2 run turtlebot3_teleop teleop_keyboard"
   ]
  },
  {
   "cell_type": "markdown",
   "metadata": {},
   "source": [
    " Running the program through the Launch file \n",
    " \n",
    "-------------------------------------------------\n",
    "## ros2 launch <package_name> <launch_file>\n",
    "-------------------------------------------------"
   ]
  },
  {
   "cell_type": "markdown",
   "metadata": {},
   "source": [
    "# ROS Package \n",
    "\n",
    "ROS2 uses packages to organize its programs. You can think of a package as all the files that a specific ROS2 program contains; all its CPP files, Python files, configuration files, compilation files, launch files, and parameters files. Also, organizing your ROS2 programs in packages makes sharing them with other developers/users much easier.\n",
    "\n",
    "In ROS2, you can create two types of packages: Python packages and CMake (C++) packages.\n",
    "\n",
    "Every Python package will have the following structure of files and folders:\n",
    "\n",
    "package.xml - File containing meta-information about the package (maintainer of the package, dependencies, etc.).\n",
    "\n",
    "setup.py - File containing instructions for how to compile the package.\n",
    "\n",
    "setup.cfg - File that defines where the scripts will be installed.\n",
    "\n",
    "src/\\<package_name> - This directory will always have the same name as your package. You will put all your Python scripts inside this folder. It already contains an empty __init__.py file by default.\n",
    "\n",
    "Some packages might contain extra folders. For instance, the launch folder contains the package's launch files"
   ]
  },
  {
   "cell_type": "markdown",
   "metadata": {},
   "source": [
    "# Create a Package"
   ]
  },
  {
   "cell_type": "markdown",
   "metadata": {},
   "source": [
    "To create a package we need to be \n",
    "# inside the src folder in ros2_ws \n",
    "also before executing this source the ROS2 in the Terminal"
   ]
  },
  {
   "cell_type": "markdown",
   "metadata": {},
   "source": [
    " The structure of the command is: \n",
    " \n",
    "---------------------------------------------------------------\n",
    "### ros2 pkg create --build-type ament_python <package_name> --dependencies <package_dependency_1> <package_dependency_2>\n",
    "--------------------------------------------------------------\n",
    "\n",
    "and example of usage of this command is \n",
    "\n",
    "--------------------------------------------------------------\n",
    "### ros2 pkg create --build-type ament_python my_package --dependencies rclpy\n",
    "-----------------------------------------------"
   ]
  },
  {
   "cell_type": "markdown",
   "metadata": {},
   "source": [
    "The <package_name> is the name of the package you want to create, and the <package_dependency_X> are the names of other ROS2 packages that your package depends on.\n",
    "\n",
    "Note also that we are specifying ament_python as the build type. This indicates that we are creating a Python package."
   ]
  },
  {
   "cell_type": "markdown",
   "metadata": {},
   "source": [
    "It is a good idea to build your package after it has been created. It is the quickest way to determine if the dependencies you listed can be resolved and check that there are no mistakes in the entered data.\n",
    "\n",
    "after creating the package "
   ]
  },
  {
   "cell_type": "markdown",
   "metadata": {},
   "source": [
    "-------------------------------------------------\n",
    "## cd ~/ros2_ws/\n",
    "\n",
    "## colcon build \n",
    "\n",
    "## source install/setup.bash\n",
    "\n",
    "## ros2 pkg list |grep my_package\n",
    "\n",
    "-----------------------------------------------------"
   ]
  },
  {
   "cell_type": "markdown",
   "metadata": {},
   "source": [
    "Sometimes (for large projects), you will not want to compile all of your packages. This would take such a long time. So instead, you can use the following command to compile only the packages where you have made changes:"
   ]
  },
  {
   "cell_type": "markdown",
   "metadata": {},
   "source": [
    "-------------------------------------------\n",
    "## colcon build --packages-select <package_name>\n",
    "-------------------------------------------\n",
    "example of this command is \n",
    "\n",
    "-------------------------------------------------\n",
    "## colcon build --packages-select my_package\n",
    "------------------------------------------------"
   ]
  },
  {
   "cell_type": "markdown",
   "metadata": {},
   "source": [
    "# Generating a Launch File\n",
    "If you want to use a launch file to start the teleop_keyboard executable, you would need to write something similar to the Python script below:"
   ]
  },
  {
   "cell_type": "markdown",
   "metadata": {},
   "source": [
    "```\n",
    "from launch import LaunchDescription\n",
    "from launch_ros.actions import Node\n",
    "\n",
    "def generate_launch_description():\n",
    "    return LaunchDescription([\n",
    "        Node(\n",
    "            package='turtlebot3_teleop',\n",
    "            executable='teleop_keyboard',\n",
    "            output='screen'),\n",
    "    ])\n",
    "```"
   ]
  },
  {
   "cell_type": "markdown",
   "metadata": {},
   "source": [
    "Within the LaunchDescription object, generate a node where you will provide the following parameters:\n",
    "\n",
    "package=Package name: Name of the package that contains the code of the ROS2 program to execute\n",
    "executable=Name of python executable: Name of the Python executable file that you want to execute\n",
    "output=Type of output: Through which channel you will print the output of the program"
   ]
  },
  {
   "cell_type": "markdown",
   "metadata": {},
   "source": [
    "## Launch files are useful since they provide an easy way to start multiple nodes with a single file, as well as the possibility to configure these nodes by, for instance, setting parameters\n"
   ]
  },
  {
   "cell_type": "markdown",
   "metadata": {},
   "source": [
    "# Python file \n",
    "\n",
    "## inside the my_package there is another folder named my_package inside that package we created this file called simple.py\n",
    "\n",
    "```\n",
    "import rclpy\n",
    "# import the Node module from ROS2 Python library\n",
    "from rclpy.node import Node\n",
    "\n",
    "def main(args=None):\n",
    "    # initialize the ROS communication\n",
    "    rclpy.init(args=args)\n",
    "    # print a message to the terminal\n",
    "    print(\"Moe yo Byakugan! Kore ga watashi no nindō yo \")\n",
    "    # english translation: \"Blaze Away, Byakugan! This is My Ninja Way!\"\n",
    "    # shutdown the ROS communication\n",
    "    rclpy.shutdown()\n",
    "\n",
    "if __name__ == '__main__':\n",
    "    main() #call the main function\n",
    "```"
   ]
  },
  {
   "cell_type": "markdown",
   "metadata": {},
   "source": [
    "### if we notice here the name of executable is not simple.py but is 'simple_node'\n",
    "```\n",
    "from launch import LaunchDescription\n",
    "from launch_ros.actions import Node\n",
    "\n",
    "def generate_launch_description():\n",
    "    return LaunchDescription([\n",
    "        Node(\n",
    "            package='my_package',\n",
    "            executable='simple_node',\n",
    "            output='screen'),\n",
    "    ])\n",
    "```"
   ]
  },
  {
   "cell_type": "markdown",
   "metadata": {},
   "source": [
    "### then we need to modif the setup.py file insde the my_package package which is \n",
    "\n",
    "```\n",
    "from setuptools import setup\n",
    "import os\n",
    "from glob import glob\n",
    "\n",
    "package_name = 'my_package'\n",
    "\n",
    "setup(\n",
    "    name=package_name,\n",
    "    version='0.0.0',\n",
    "    packages=[package_name],\n",
    "    data_files=[\n",
    "        ('share/ament_index/resource_index/packages',\n",
    "            ['resource/' + package_name]),\n",
    "        ('share/' + package_name, ['package.xml']),\n",
    "        (os.path.join('share', package_name), glob('launch/*.launch.py'))\n",
    "    ],\n",
    "    install_requires=['setuptools'],\n",
    "    zip_safe=True,\n",
    "    maintainer='somebody very awesome',\n",
    "    maintainer_email='user@user.com',\n",
    "    description='TODO: Package description',\n",
    "    license='TODO: License declaration',\n",
    "    tests_require=['pytest'],\n",
    "    entry_points={\n",
    "        'console_scripts': [\n",
    "            'simple_node = my_package.simple:main'\n",
    "        ],\n",
    "    },\n",
    ")\n",
    "```"
   ]
  },
  {
   "cell_type": "markdown",
   "metadata": {},
   "source": [
    "so the part of code that we need to modify here is "
   ]
  },
  {
   "cell_type": "markdown",
   "metadata": {},
   "source": [
    "```\n",
    "'console_scripts': [\n",
    "            'simple_node = my_package.simple:main'\n",
    "        ],\n",
    "```"
   ]
  },
  {
   "cell_type": "markdown",
   "metadata": {},
   "source": [
    "With these lines, you are adding an entry point to the script you wrote earlier, simple.py. For example, you can see this line as follows:\n",
    "## '<executable_name> = <package_name>.<script_name>:main'"
   ]
  },
  {
   "cell_type": "markdown",
   "metadata": {},
   "source": []
  }
 ],
 "metadata": {
  "kernelspec": {
   "display_name": "Python 3",
   "language": "python",
   "name": "python3"
  },
  "language_info": {
   "codemirror_mode": {
    "name": "ipython",
    "version": 3
   },
   "file_extension": ".py",
   "mimetype": "text/x-python",
   "name": "python",
   "nbconvert_exporter": "python",
   "pygments_lexer": "ipython3",
   "version": "3.12.0"
  }
 },
 "nbformat": 4,
 "nbformat_minor": 2
}
